{
 "cells": [
  {
   "cell_type": "code",
   "execution_count": null,
   "id": "626268b1-b50e-4eca-9edc-134aed6d095b",
   "metadata": {},
   "outputs": [],
   "source": []
  }
 ],
 "metadata": {
  "kernelspec": {
   "display_name": "",
   "name": ""
  },
  "language_info": {
   "name": ""
  }
 },
 "nbformat": 4,
 "nbformat_minor": 5
}
